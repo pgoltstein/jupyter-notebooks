{
 "cells": [
  {
   "cell_type": "markdown",
   "metadata": {},
   "source": [
    "# Exploration of information theory principles"
   ]
  },
  {
   "cell_type": "markdown",
   "metadata": {},
   "source": [
    "Import modules"
   ]
  },
  {
   "cell_type": "code",
   "execution_count": 1,
   "metadata": {},
   "outputs": [],
   "source": [
    "import numpy as np"
   ]
  },
  {
   "cell_type": "markdown",
   "metadata": {},
   "source": [
    "Create some dummy variables"
   ]
  },
  {
   "cell_type": "code",
   "execution_count": 2,
   "metadata": {},
   "outputs": [],
   "source": [
    "a = np.zeros(100)\n",
    "a[::2] = 1.0\n",
    "b = np.zeros(100)\n",
    "b[0] = 1.0"
   ]
  },
  {
   "cell_type": "markdown",
   "metadata": {},
   "source": [
    "Function that calculates the probability of each unique value in an array"
   ]
  },
  {
   "cell_type": "code",
   "execution_count": 3,
   "metadata": {},
   "outputs": [],
   "source": [
    "def p(x):\n",
    "    _,counts = np.unique(x, return_counts=True)\n",
    "    return counts / x.shape[0]"
   ]
  },
  {
   "cell_type": "code",
   "execution_count": 4,
   "metadata": {},
   "outputs": [
    {
     "name": "stdout",
     "output_type": "stream",
     "text": [
      "[0.5 0.5]\n",
      "[0.99 0.01]\n"
     ]
    }
   ],
   "source": [
    "print(p(a))\n",
    "print(p(b))"
   ]
  },
  {
   "cell_type": "markdown",
   "metadata": {},
   "source": [
    "Function that calculates the joint probability (combinations of values) across two arrays"
   ]
  },
  {
   "cell_type": "code",
   "execution_count": 5,
   "metadata": {},
   "outputs": [],
   "source": [
    "def joint_p(x,y):\n",
    "    # convert vectors x and y into ordinal scale\n",
    "    _,x = np.unique(x,return_inverse=True)\n",
    "    _,y = np.unique(y,return_inverse=True)\n",
    "    # get the maximum number of unique values in x and y\n",
    "    maxn = np.max([np.max(x),np.max(y)])\n",
    "    # Make a 2d matrix and get the counts of unique row combinations\n",
    "    xy = np.stack([x,y],axis=1)\n",
    "    joint_counts = np.histogramdd(xy, bins=maxn+1)[0].ravel()\n",
    "    # Convert to probability by dividing by number of observations\n",
    "    p_xy = joint_counts / np.sum(joint_counts)\n",
    "    return p_xy"
   ]
  },
  {
   "cell_type": "code",
   "execution_count": 6,
   "metadata": {},
   "outputs": [
    {
     "name": "stdout",
     "output_type": "stream",
     "text": [
      "[0.5  0.   0.49 0.01]\n"
     ]
    }
   ],
   "source": [
    "print(joint_p(a,b))"
   ]
  },
  {
   "cell_type": "markdown",
   "metadata": {},
   "source": [
    "Functions that calculate the entropy"
   ]
  },
  {
   "cell_type": "code",
   "execution_count": 7,
   "metadata": {},
   "outputs": [],
   "source": [
    "def entropy(x):\n",
    "    p_x = p(x)\n",
    "    Hx = -1 * np.sum(p_x * np.log2(p_x))\n",
    "    return Hx\n",
    "\n",
    "def joint_entropy(x,y):\n",
    "    p_xy = joint_p(x,y)\n",
    "    p_xy = p_xy[p_xy>0]\n",
    "    Hxy = -1 * np.sum(p_xy * np.log2(p_xy))\n",
    "    return Hxy"
   ]
  },
  {
   "cell_type": "code",
   "execution_count": 8,
   "metadata": {},
   "outputs": [
    {
     "name": "stdout",
     "output_type": "stream",
     "text": [
      "1.0\n",
      "0.08079313589591118\n"
     ]
    }
   ],
   "source": [
    "print(entropy(a))\n",
    "print(entropy(b))"
   ]
  },
  {
   "cell_type": "code",
   "execution_count": 9,
   "metadata": {},
   "outputs": [
    {
     "name": "stdout",
     "output_type": "stream",
     "text": [
      "1.0707202712709103\n"
     ]
    }
   ],
   "source": [
    "print(joint_entropy(a,b))"
   ]
  },
  {
   "cell_type": "markdown",
   "metadata": {},
   "source": [
    "Function that calculates mutual information"
   ]
  },
  {
   "cell_type": "code",
   "execution_count": 10,
   "metadata": {},
   "outputs": [],
   "source": [
    "def information(x,y):\n",
    "    Hx = entropy(x)\n",
    "    Hy = entropy(y)\n",
    "    Hxy = joint_entropy(x,y)\n",
    "    I = (Hx + Hy) - Hxy\n",
    "    return I"
   ]
  },
  {
   "cell_type": "code",
   "execution_count": 11,
   "metadata": {},
   "outputs": [
    {
     "name": "stdout",
     "output_type": "stream",
     "text": [
      "0.010072864625000788\n"
     ]
    }
   ],
   "source": [
    "print(information(a,b))"
   ]
  },
  {
   "cell_type": "code",
   "execution_count": 12,
   "metadata": {},
   "outputs": [
    {
     "name": "stdout",
     "output_type": "stream",
     "text": [
      "0.9679505356936393\n",
      "0.954434002924965\n",
      "1.9223392868424816\n",
      "4.525177612291209e-05\n"
     ]
    }
   ],
   "source": [
    "b = np.zeros(200)\n",
    "c = np.zeros(200)\n",
    "ix = np.random.choice( 200, 200, replace=True )\n",
    "b[ix[:100]] = 1.0\n",
    "c[ix[100:]] = 1.0\n",
    "print(entropy(b))\n",
    "print(entropy(c))\n",
    "print(joint_entropy(b,c))\n",
    "print(information(b,c))"
   ]
  },
  {
   "cell_type": "code",
   "execution_count": 13,
   "metadata": {},
   "outputs": [],
   "source": [
    "ix = np.random.choice( 200, 200, replace=True )\n",
    "b[ix[:50]] = 2.0\n",
    "c[ix[50:100]] = 2.0"
   ]
  },
  {
   "cell_type": "code",
   "execution_count": 14,
   "metadata": {},
   "outputs": [
    {
     "name": "stdout",
     "output_type": "stream",
     "text": [
      "1.5173758263626684\n",
      "1.5273766428746693\n",
      "3.0325385195409065\n",
      "0.012213949696431303\n"
     ]
    }
   ],
   "source": [
    "print(entropy(b))\n",
    "print(entropy(c))\n",
    "print(joint_entropy(b,c))\n",
    "print(information(b,c))"
   ]
  },
  {
   "cell_type": "code",
   "execution_count": 15,
   "metadata": {},
   "outputs": [
    {
     "name": "stdout",
     "output_type": "stream",
     "text": [
      "0.9647995485050872\n",
      "0.9614969508235551\n",
      "1.544169559576734\n",
      "0.38212693975190826\n"
     ]
    }
   ],
   "source": [
    "b = np.zeros(200)\n",
    "c = np.zeros(200)\n",
    "ix = np.random.choice( 200, 200, replace=True )\n",
    "b[ix[:100]] = 1.0\n",
    "c[ix[:100]] = 1.0\n",
    "ix = np.random.choice( 200, 200, replace=True )\n",
    "c[ix[:100]] = 1.0\n",
    "print(entropy(b))\n",
    "print(entropy(c))\n",
    "print(joint_entropy(b,c))\n",
    "print(information(b,c))"
   ]
  },
  {
   "cell_type": "code",
   "execution_count": 18,
   "metadata": {},
   "outputs": [
    {
     "data": {
      "text/plain": [
       "2.046439344671016"
      ]
     },
     "execution_count": 18,
     "metadata": {},
     "output_type": "execute_result"
    }
   ],
   "source": [
    "a = np.arange(10)\n",
    "b = np.concatenate([np.arange(5),np.array([0,1,0,1,0])])\n",
    "information(a,b)"
   ]
  },
  {
   "cell_type": "code",
   "execution_count": null,
   "metadata": {},
   "outputs": [],
   "source": []
  }
 ],
 "metadata": {
  "kernelspec": {
   "display_name": "Python 3",
   "language": "python",
   "name": "python3"
  },
  "language_info": {
   "codemirror_mode": {
    "name": "ipython",
    "version": 3
   },
   "file_extension": ".py",
   "mimetype": "text/x-python",
   "name": "python",
   "nbconvert_exporter": "python",
   "pygments_lexer": "ipython3",
   "version": "3.6.7"
  }
 },
 "nbformat": 4,
 "nbformat_minor": 2
}
