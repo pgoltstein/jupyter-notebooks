{
 "cells": [
  {
   "cell_type": "markdown",
   "metadata": {},
   "source": [
    "# Exploration of information theory principles"
   ]
  },
  {
   "cell_type": "markdown",
   "metadata": {},
   "source": [
    "Import modules"
   ]
  },
  {
   "cell_type": "code",
   "execution_count": 2,
   "metadata": {
    "ExecuteTime": {
     "end_time": "2022-08-10T11:34:31.726695Z",
     "start_time": "2022-08-10T11:34:31.724045Z"
    }
   },
   "outputs": [],
   "source": [
    "import numpy as np"
   ]
  },
  {
   "cell_type": "markdown",
   "metadata": {},
   "source": [
    "Create some dummy variables"
   ]
  },
  {
   "cell_type": "code",
   "execution_count": 3,
   "metadata": {
    "ExecuteTime": {
     "end_time": "2022-08-10T11:34:34.647001Z",
     "start_time": "2022-08-10T11:34:34.643439Z"
    }
   },
   "outputs": [],
   "source": [
    "a = np.zeros(100)\n",
    "a[::2] = 1.0\n",
    "b = np.zeros(100)\n",
    "b[0] = 1.0"
   ]
  },
  {
   "cell_type": "markdown",
   "metadata": {},
   "source": [
    "Function that calculates the probability of each unique value in an array"
   ]
  },
  {
   "cell_type": "code",
   "execution_count": 4,
   "metadata": {
    "ExecuteTime": {
     "end_time": "2022-08-10T11:34:36.227099Z",
     "start_time": "2022-08-10T11:34:36.223842Z"
    }
   },
   "outputs": [],
   "source": [
    "def p(x):\n",
    "    _,counts = np.unique(x, return_counts=True)\n",
    "    return counts / x.shape[0]"
   ]
  },
  {
   "cell_type": "code",
   "execution_count": 5,
   "metadata": {
    "ExecuteTime": {
     "end_time": "2022-08-10T11:34:36.960572Z",
     "start_time": "2022-08-10T11:34:36.949099Z"
    }
   },
   "outputs": [
    {
     "name": "stdout",
     "output_type": "stream",
     "text": [
      "[0.5 0.5]\n",
      "[0.99 0.01]\n"
     ]
    }
   ],
   "source": [
    "print(p(a))\n",
    "print(p(b))"
   ]
  },
  {
   "cell_type": "markdown",
   "metadata": {},
   "source": [
    "Function that calculates the joint probability (combinations of values) across two arrays"
   ]
  },
  {
   "cell_type": "code",
   "execution_count": 6,
   "metadata": {
    "ExecuteTime": {
     "end_time": "2022-08-10T11:34:39.276987Z",
     "start_time": "2022-08-10T11:34:39.267010Z"
    }
   },
   "outputs": [],
   "source": [
    "def joint_p(x,y):\n",
    "    # convert vectors x and y into ordinal scale\n",
    "    _,x = np.unique(x,return_inverse=True)\n",
    "    _,y = np.unique(y,return_inverse=True)\n",
    "    # get the maximum number of unique values in x and y\n",
    "    maxn = np.max([np.max(x),np.max(y)])\n",
    "    # Make a 2d matrix and get the counts of unique row combinations\n",
    "    xy = np.stack([x,y],axis=1)\n",
    "    joint_counts = np.histogramdd(xy, bins=maxn+1)[0].ravel()\n",
    "    # Convert to probability by dividing by number of observations\n",
    "    p_xy = joint_counts / np.sum(joint_counts)\n",
    "    return p_xy"
   ]
  },
  {
   "cell_type": "code",
   "execution_count": 7,
   "metadata": {
    "ExecuteTime": {
     "end_time": "2022-08-10T11:34:40.496142Z",
     "start_time": "2022-08-10T11:34:40.489318Z"
    }
   },
   "outputs": [
    {
     "name": "stdout",
     "output_type": "stream",
     "text": [
      "[0.5  0.   0.49 0.01]\n"
     ]
    }
   ],
   "source": [
    "print(joint_p(a,b))"
   ]
  },
  {
   "cell_type": "markdown",
   "metadata": {},
   "source": [
    "Functions that calculate the entropy"
   ]
  },
  {
   "cell_type": "code",
   "execution_count": 8,
   "metadata": {
    "ExecuteTime": {
     "end_time": "2022-08-10T11:34:42.028073Z",
     "start_time": "2022-08-10T11:34:42.024010Z"
    }
   },
   "outputs": [],
   "source": [
    "def entropy(x):\n",
    "    p_x = p(x)\n",
    "    Hx = -1 * np.sum(p_x * np.log2(p_x))\n",
    "    return Hx\n",
    "\n",
    "def joint_entropy(x,y):\n",
    "    p_xy = joint_p(x,y)\n",
    "    p_xy = p_xy[p_xy>0]\n",
    "    Hxy = -1 * np.sum(p_xy * np.log2(p_xy))\n",
    "    return Hxy"
   ]
  },
  {
   "cell_type": "code",
   "execution_count": 9,
   "metadata": {
    "ExecuteTime": {
     "end_time": "2022-08-10T11:34:42.878789Z",
     "start_time": "2022-08-10T11:34:42.875101Z"
    }
   },
   "outputs": [
    {
     "name": "stdout",
     "output_type": "stream",
     "text": [
      "1.0\n",
      "0.08079313589591118\n"
     ]
    }
   ],
   "source": [
    "print(entropy(a))\n",
    "print(entropy(b))"
   ]
  },
  {
   "cell_type": "code",
   "execution_count": 10,
   "metadata": {
    "ExecuteTime": {
     "end_time": "2022-08-10T11:34:43.675023Z",
     "start_time": "2022-08-10T11:34:43.670861Z"
    }
   },
   "outputs": [
    {
     "name": "stdout",
     "output_type": "stream",
     "text": [
      "1.0707202712709103\n"
     ]
    }
   ],
   "source": [
    "print(joint_entropy(a,b))"
   ]
  },
  {
   "cell_type": "markdown",
   "metadata": {},
   "source": [
    "Function that calculates mutual information"
   ]
  },
  {
   "cell_type": "code",
   "execution_count": 11,
   "metadata": {
    "ExecuteTime": {
     "end_time": "2022-08-10T11:34:45.783892Z",
     "start_time": "2022-08-10T11:34:45.780470Z"
    }
   },
   "outputs": [],
   "source": [
    "def information(x,y):\n",
    "    Hx = entropy(x)\n",
    "    Hy = entropy(y)\n",
    "    Hxy = joint_entropy(x,y)\n",
    "    I = (Hx + Hy) - Hxy\n",
    "    return I"
   ]
  },
  {
   "cell_type": "code",
   "execution_count": 12,
   "metadata": {
    "ExecuteTime": {
     "end_time": "2022-08-10T11:34:46.351893Z",
     "start_time": "2022-08-10T11:34:46.347850Z"
    }
   },
   "outputs": [
    {
     "name": "stdout",
     "output_type": "stream",
     "text": [
      "0.010072864625000788\n"
     ]
    }
   ],
   "source": [
    "print(information(a,b))"
   ]
  },
  {
   "cell_type": "code",
   "execution_count": 13,
   "metadata": {
    "ExecuteTime": {
     "end_time": "2022-08-10T11:34:47.031814Z",
     "start_time": "2022-08-10T11:34:47.016087Z"
    }
   },
   "outputs": [
    {
     "name": "stdout",
     "output_type": "stream",
     "text": [
      "0.9679505356936393\n",
      "0.9647995485050872\n",
      "1.9323015508014116\n",
      "0.0004485333973149874\n"
     ]
    }
   ],
   "source": [
    "b = np.zeros(200)\n",
    "c = np.zeros(200)\n",
    "ix = np.random.choice( 200, 200, replace=True )\n",
    "b[ix[:100]] = 1.0\n",
    "c[ix[100:]] = 1.0\n",
    "print(entropy(b))\n",
    "print(entropy(c))\n",
    "print(joint_entropy(b,c))\n",
    "print(information(b,c))"
   ]
  },
  {
   "cell_type": "code",
   "execution_count": 14,
   "metadata": {
    "ExecuteTime": {
     "end_time": "2022-08-10T11:34:47.833619Z",
     "start_time": "2022-08-10T11:34:47.830795Z"
    }
   },
   "outputs": [],
   "source": [
    "ix = np.random.choice( 200, 200, replace=True )\n",
    "b[ix[:50]] = 2.0\n",
    "c[ix[50:100]] = 2.0"
   ]
  },
  {
   "cell_type": "code",
   "execution_count": 15,
   "metadata": {
    "ExecuteTime": {
     "end_time": "2022-08-10T11:34:48.627502Z",
     "start_time": "2022-08-10T11:34:48.621694Z"
    }
   },
   "outputs": [
    {
     "name": "stdout",
     "output_type": "stream",
     "text": [
      "1.5192292106068108\n",
      "1.5165004203485388\n",
      "3.0270577456754055\n",
      "0.008671885279944114\n"
     ]
    }
   ],
   "source": [
    "print(entropy(b))\n",
    "print(entropy(c))\n",
    "print(joint_entropy(b,c))\n",
    "print(information(b,c))"
   ]
  },
  {
   "cell_type": "code",
   "execution_count": 16,
   "metadata": {
    "ExecuteTime": {
     "end_time": "2022-08-10T11:34:49.357747Z",
     "start_time": "2022-08-10T11:34:49.349967Z"
    }
   },
   "outputs": [
    {
     "name": "stdout",
     "output_type": "stream",
     "text": [
      "0.9384543826025636\n",
      "0.9647995485050872\n",
      "1.5629206347915543\n",
      "0.34033329631609655\n"
     ]
    }
   ],
   "source": [
    "b = np.zeros(200)\n",
    "c = np.zeros(200)\n",
    "ix = np.random.choice( 200, 200, replace=True )\n",
    "b[ix[:100]] = 1.0\n",
    "c[ix[:100]] = 1.0\n",
    "ix = np.random.choice( 200, 200, replace=True )\n",
    "c[ix[:100]] = 1.0\n",
    "print(entropy(b))\n",
    "print(entropy(c))\n",
    "print(joint_entropy(b,c))\n",
    "print(information(b,c))"
   ]
  },
  {
   "cell_type": "code",
   "execution_count": 17,
   "metadata": {
    "ExecuteTime": {
     "end_time": "2022-08-10T11:34:50.032967Z",
     "start_time": "2022-08-10T11:34:50.015828Z"
    }
   },
   "outputs": [
    {
     "data": {
      "text/plain": [
       "2.046439344671016"
      ]
     },
     "execution_count": 17,
     "metadata": {},
     "output_type": "execute_result"
    }
   ],
   "source": [
    "a = np.arange(10)\n",
    "b = np.concatenate([np.arange(5),np.array([0,1,0,1,0])])\n",
    "information(a,b)"
   ]
  },
  {
   "cell_type": "code",
   "execution_count": null,
   "metadata": {},
   "outputs": [],
   "source": []
  }
 ],
 "metadata": {
  "kernelspec": {
   "display_name": "Python 3",
   "language": "python",
   "name": "python3"
  },
  "language_info": {
   "codemirror_mode": {
    "name": "ipython",
    "version": 3
   },
   "file_extension": ".py",
   "mimetype": "text/x-python",
   "name": "python",
   "nbconvert_exporter": "python",
   "pygments_lexer": "ipython3",
   "version": "3.8.12"
  },
  "toc": {
   "base_numbering": 1,
   "nav_menu": {},
   "number_sections": true,
   "sideBar": true,
   "skip_h1_title": false,
   "title_cell": "Table of Contents",
   "title_sidebar": "Contents",
   "toc_cell": false,
   "toc_position": {},
   "toc_section_display": true,
   "toc_window_display": false
  }
 },
 "nbformat": 4,
 "nbformat_minor": 2
}
